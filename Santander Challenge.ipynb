{
 "cells": [
  {
   "cell_type": "code",
   "execution_count": 1,
   "metadata": {
    "collapsed": false
   },
   "outputs": [
    {
     "name": "stderr",
     "output_type": "stream",
     "text": [
      "A newer version of GraphLab Create (v1.8.5) is available! Your current version is v1.8.3.\n",
      "\n",
      "You can use pip to upgrade the graphlab-create package. For more information see https://dato.com/products/create/upgrade.\n"
     ]
    }
   ],
   "source": [
    "from __future__ import division\n",
    "import graphlab\n",
    "import math\n",
    "import string"
   ]
  },
  {
   "cell_type": "code",
   "execution_count": 2,
   "metadata": {
    "collapsed": false
   },
   "outputs": [
    {
     "name": "stderr",
     "output_type": "stream",
     "text": [
      "[INFO] GraphLab Create v1.8.3 started. Logging: /tmp/graphlab_server_1459031936.log\n"
     ]
    },
    {
     "data": {
      "text/html": [
       "<pre>Read 67150 lines. Lines per second: 20280.8</pre>"
      ],
      "text/plain": [
       "Read 67150 lines. Lines per second: 20280.8"
      ]
     },
     "metadata": {},
     "output_type": "display_data"
    },
    {
     "data": {
      "text/html": [
       "<pre>Finished parsing file /Users/darshanbagul/Documents/Coursera/ML-Classification/train.csv</pre>"
      ],
      "text/plain": [
       "Finished parsing file /Users/darshanbagul/Documents/Coursera/ML-Classification/train.csv"
      ]
     },
     "metadata": {},
     "output_type": "display_data"
    },
    {
     "data": {
      "text/html": [
       "<pre>Parsing completed. Parsed 76020 lines in 3.5143 secs.</pre>"
      ],
      "text/plain": [
       "Parsing completed. Parsed 76020 lines in 3.5143 secs."
      ]
     },
     "metadata": {},
     "output_type": "display_data"
    },
    {
     "name": "stdout",
     "output_type": "stream",
     "text": [
      "------------------------------------------------------\n",
      "Inferred types from first line of file as \n",
      "column_type_hints=[int,int,int,int,float,float,float,float,int,int,float,float,float,int,int,float,int,int,float,int,int,int,int,int,int,int,int,int,int,int,int,int,int,int,int,int,int,int,int,int,int,int,int,int,int,int,int,int,int,int,int,int,int,int,int,int,int,int,int,int,int,int,int,int,int,int,int,int,int,int,int,int,int,int,int,int,int,int,int,int,int,int,int,int,int,int,int,int,int,int,int,int,int,int,int,int,int,int,int,int,int,int,int,int,int,int,int,int,int,int,int,int,int,int,int,int,int,int,int,int,int,int,int,int,int,int,int,int,int,int,int,int,int,int,int,int,int,int,int,int,int,int,int,int,int,int,int,int,int,int,int,int,int,int,int,int,int,int,int,int,int,int,int,int,float,float,int,float,float,int,int,int,int,int,float,int,float,float,float,float,int,int,int,float,float,int,int,int,float,float,int,float,int,int,int,int,int,int,int,int,int,int,int,int,int,int,int,int,int,int,int,int,int,int,int,int,int,int,int,int,int,int,int,int,int,int,int,int,int,int,int,int,int,int,int,int,int,int,int,int,int,float,float,int,int,int,int,int,int,int,int,int,int,int,int,int,int,int,int,int,int,int,int,int,int,int,int,int,int,int,int,int,int,int,int,int,int,int,int,int,int,int,int,int,int,int,int,int,int,int,int,int,int,int,int,int,int,int,int,int,int,int,int,int,int,int,int,int,int,int,int,int,int,int,int,int,int,int,int,int,int,int,int,int,int,int,int,int,int,float,float,float,float,float,float,float,float,float,int,float,float,float,float,int,float,int,int,int,int,int,int,int,int,float,int,float,float,int,int,int,int,int,int,int,int,int,int,int,int,float,int]\n",
      "If parsing fails due to incorrect types, you can correct\n",
      "the inferred type list above and pass it to read_csv in\n",
      "the column_type_hints argument\n",
      "------------------------------------------------------\n"
     ]
    }
   ],
   "source": [
    "data = graphlab.SFrame.read_csv('train.csv')"
   ]
  },
  {
   "cell_type": "code",
   "execution_count": 3,
   "metadata": {
    "collapsed": false
   },
   "outputs": [
    {
     "data": {
      "text/html": [
       "<div style=\"max-height:1000px;max-width:1500px;overflow:auto;\"><table frame=\"box\" rules=\"cols\">\n",
       "    <tr>\n",
       "        <th style=\"padding-left: 1em; padding-right: 1em; text-align: center\">ID</th>\n",
       "        <th style=\"padding-left: 1em; padding-right: 1em; text-align: center\">var3</th>\n",
       "        <th style=\"padding-left: 1em; padding-right: 1em; text-align: center\">var15</th>\n",
       "        <th style=\"padding-left: 1em; padding-right: 1em; text-align: center\">imp_ent_var16_ult1</th>\n",
       "        <th style=\"padding-left: 1em; padding-right: 1em; text-align: center\">imp_op_var39_comer_ult1</th>\n",
       "        <th style=\"padding-left: 1em; padding-right: 1em; text-align: center\">imp_op_var39_comer_ult3</th>\n",
       "        <th style=\"padding-left: 1em; padding-right: 1em; text-align: center\">imp_op_var40_comer_ult1</th>\n",
       "    </tr>\n",
       "    <tr>\n",
       "        <td style=\"padding-left: 1em; padding-right: 1em; text-align: center; vertical-align: top\">1</td>\n",
       "        <td style=\"padding-left: 1em; padding-right: 1em; text-align: center; vertical-align: top\">2</td>\n",
       "        <td style=\"padding-left: 1em; padding-right: 1em; text-align: center; vertical-align: top\">23</td>\n",
       "        <td style=\"padding-left: 1em; padding-right: 1em; text-align: center; vertical-align: top\">0</td>\n",
       "        <td style=\"padding-left: 1em; padding-right: 1em; text-align: center; vertical-align: top\">0.0</td>\n",
       "        <td style=\"padding-left: 1em; padding-right: 1em; text-align: center; vertical-align: top\">0.0</td>\n",
       "        <td style=\"padding-left: 1em; padding-right: 1em; text-align: center; vertical-align: top\">0.0</td>\n",
       "    </tr>\n",
       "    <tr>\n",
       "        <td style=\"padding-left: 1em; padding-right: 1em; text-align: center; vertical-align: top\">3</td>\n",
       "        <td style=\"padding-left: 1em; padding-right: 1em; text-align: center; vertical-align: top\">2</td>\n",
       "        <td style=\"padding-left: 1em; padding-right: 1em; text-align: center; vertical-align: top\">34</td>\n",
       "        <td style=\"padding-left: 1em; padding-right: 1em; text-align: center; vertical-align: top\">0</td>\n",
       "        <td style=\"padding-left: 1em; padding-right: 1em; text-align: center; vertical-align: top\">0.0</td>\n",
       "        <td style=\"padding-left: 1em; padding-right: 1em; text-align: center; vertical-align: top\">0.0</td>\n",
       "        <td style=\"padding-left: 1em; padding-right: 1em; text-align: center; vertical-align: top\">0.0</td>\n",
       "    </tr>\n",
       "    <tr>\n",
       "        <td style=\"padding-left: 1em; padding-right: 1em; text-align: center; vertical-align: top\">4</td>\n",
       "        <td style=\"padding-left: 1em; padding-right: 1em; text-align: center; vertical-align: top\">2</td>\n",
       "        <td style=\"padding-left: 1em; padding-right: 1em; text-align: center; vertical-align: top\">23</td>\n",
       "        <td style=\"padding-left: 1em; padding-right: 1em; text-align: center; vertical-align: top\">0</td>\n",
       "        <td style=\"padding-left: 1em; padding-right: 1em; text-align: center; vertical-align: top\">0.0</td>\n",
       "        <td style=\"padding-left: 1em; padding-right: 1em; text-align: center; vertical-align: top\">0.0</td>\n",
       "        <td style=\"padding-left: 1em; padding-right: 1em; text-align: center; vertical-align: top\">0.0</td>\n",
       "    </tr>\n",
       "    <tr>\n",
       "        <td style=\"padding-left: 1em; padding-right: 1em; text-align: center; vertical-align: top\">8</td>\n",
       "        <td style=\"padding-left: 1em; padding-right: 1em; text-align: center; vertical-align: top\">2</td>\n",
       "        <td style=\"padding-left: 1em; padding-right: 1em; text-align: center; vertical-align: top\">37</td>\n",
       "        <td style=\"padding-left: 1em; padding-right: 1em; text-align: center; vertical-align: top\">0</td>\n",
       "        <td style=\"padding-left: 1em; padding-right: 1em; text-align: center; vertical-align: top\">195.0</td>\n",
       "        <td style=\"padding-left: 1em; padding-right: 1em; text-align: center; vertical-align: top\">195.0</td>\n",
       "        <td style=\"padding-left: 1em; padding-right: 1em; text-align: center; vertical-align: top\">0.0</td>\n",
       "    </tr>\n",
       "    <tr>\n",
       "        <td style=\"padding-left: 1em; padding-right: 1em; text-align: center; vertical-align: top\">10</td>\n",
       "        <td style=\"padding-left: 1em; padding-right: 1em; text-align: center; vertical-align: top\">2</td>\n",
       "        <td style=\"padding-left: 1em; padding-right: 1em; text-align: center; vertical-align: top\">39</td>\n",
       "        <td style=\"padding-left: 1em; padding-right: 1em; text-align: center; vertical-align: top\">0</td>\n",
       "        <td style=\"padding-left: 1em; padding-right: 1em; text-align: center; vertical-align: top\">0.0</td>\n",
       "        <td style=\"padding-left: 1em; padding-right: 1em; text-align: center; vertical-align: top\">0.0</td>\n",
       "        <td style=\"padding-left: 1em; padding-right: 1em; text-align: center; vertical-align: top\">0.0</td>\n",
       "    </tr>\n",
       "    <tr>\n",
       "        <td style=\"padding-left: 1em; padding-right: 1em; text-align: center; vertical-align: top\">13</td>\n",
       "        <td style=\"padding-left: 1em; padding-right: 1em; text-align: center; vertical-align: top\">2</td>\n",
       "        <td style=\"padding-left: 1em; padding-right: 1em; text-align: center; vertical-align: top\">23</td>\n",
       "        <td style=\"padding-left: 1em; padding-right: 1em; text-align: center; vertical-align: top\">0</td>\n",
       "        <td style=\"padding-left: 1em; padding-right: 1em; text-align: center; vertical-align: top\">0.0</td>\n",
       "        <td style=\"padding-left: 1em; padding-right: 1em; text-align: center; vertical-align: top\">0.0</td>\n",
       "        <td style=\"padding-left: 1em; padding-right: 1em; text-align: center; vertical-align: top\">0.0</td>\n",
       "    </tr>\n",
       "    <tr>\n",
       "        <td style=\"padding-left: 1em; padding-right: 1em; text-align: center; vertical-align: top\">14</td>\n",
       "        <td style=\"padding-left: 1em; padding-right: 1em; text-align: center; vertical-align: top\">2</td>\n",
       "        <td style=\"padding-left: 1em; padding-right: 1em; text-align: center; vertical-align: top\">27</td>\n",
       "        <td style=\"padding-left: 1em; padding-right: 1em; text-align: center; vertical-align: top\">0</td>\n",
       "        <td style=\"padding-left: 1em; padding-right: 1em; text-align: center; vertical-align: top\">0.0</td>\n",
       "        <td style=\"padding-left: 1em; padding-right: 1em; text-align: center; vertical-align: top\">0.0</td>\n",
       "        <td style=\"padding-left: 1em; padding-right: 1em; text-align: center; vertical-align: top\">0.0</td>\n",
       "    </tr>\n",
       "    <tr>\n",
       "        <td style=\"padding-left: 1em; padding-right: 1em; text-align: center; vertical-align: top\">18</td>\n",
       "        <td style=\"padding-left: 1em; padding-right: 1em; text-align: center; vertical-align: top\">2</td>\n",
       "        <td style=\"padding-left: 1em; padding-right: 1em; text-align: center; vertical-align: top\">26</td>\n",
       "        <td style=\"padding-left: 1em; padding-right: 1em; text-align: center; vertical-align: top\">0</td>\n",
       "        <td style=\"padding-left: 1em; padding-right: 1em; text-align: center; vertical-align: top\">0.0</td>\n",
       "        <td style=\"padding-left: 1em; padding-right: 1em; text-align: center; vertical-align: top\">0.0</td>\n",
       "        <td style=\"padding-left: 1em; padding-right: 1em; text-align: center; vertical-align: top\">0.0</td>\n",
       "    </tr>\n",
       "    <tr>\n",
       "        <td style=\"padding-left: 1em; padding-right: 1em; text-align: center; vertical-align: top\">20</td>\n",
       "        <td style=\"padding-left: 1em; padding-right: 1em; text-align: center; vertical-align: top\">2</td>\n",
       "        <td style=\"padding-left: 1em; padding-right: 1em; text-align: center; vertical-align: top\">45</td>\n",
       "        <td style=\"padding-left: 1em; padding-right: 1em; text-align: center; vertical-align: top\">0</td>\n",
       "        <td style=\"padding-left: 1em; padding-right: 1em; text-align: center; vertical-align: top\">0.0</td>\n",
       "        <td style=\"padding-left: 1em; padding-right: 1em; text-align: center; vertical-align: top\">0.0</td>\n",
       "        <td style=\"padding-left: 1em; padding-right: 1em; text-align: center; vertical-align: top\">0.0</td>\n",
       "    </tr>\n",
       "    <tr>\n",
       "        <td style=\"padding-left: 1em; padding-right: 1em; text-align: center; vertical-align: top\">23</td>\n",
       "        <td style=\"padding-left: 1em; padding-right: 1em; text-align: center; vertical-align: top\">2</td>\n",
       "        <td style=\"padding-left: 1em; padding-right: 1em; text-align: center; vertical-align: top\">25</td>\n",
       "        <td style=\"padding-left: 1em; padding-right: 1em; text-align: center; vertical-align: top\">0</td>\n",
       "        <td style=\"padding-left: 1em; padding-right: 1em; text-align: center; vertical-align: top\">0.0</td>\n",
       "        <td style=\"padding-left: 1em; padding-right: 1em; text-align: center; vertical-align: top\">0.0</td>\n",
       "        <td style=\"padding-left: 1em; padding-right: 1em; text-align: center; vertical-align: top\">0.0</td>\n",
       "    </tr>\n",
       "</table>\n",
       "<table frame=\"box\" rules=\"cols\">\n",
       "    <tr>\n",
       "        <th style=\"padding-left: 1em; padding-right: 1em; text-align: center\">imp_op_var40_comer_ult3</th>\n",
       "        <th style=\"padding-left: 1em; padding-right: 1em; text-align: center\">imp_op_var40_efect_ult1</th>\n",
       "        <th style=\"padding-left: 1em; padding-right: 1em; text-align: center\">imp_op_var40_efect_ult3</th>\n",
       "        <th style=\"padding-left: 1em; padding-right: 1em; text-align: center\">imp_op_var40_ult1</th>\n",
       "        <th style=\"padding-left: 1em; padding-right: 1em; text-align: center\">imp_op_var41_comer_ult1</th>\n",
       "    </tr>\n",
       "    <tr>\n",
       "        <td style=\"padding-left: 1em; padding-right: 1em; text-align: center; vertical-align: top\">0.0</td>\n",
       "        <td style=\"padding-left: 1em; padding-right: 1em; text-align: center; vertical-align: top\">0</td>\n",
       "        <td style=\"padding-left: 1em; padding-right: 1em; text-align: center; vertical-align: top\">0</td>\n",
       "        <td style=\"padding-left: 1em; padding-right: 1em; text-align: center; vertical-align: top\">0.0</td>\n",
       "        <td style=\"padding-left: 1em; padding-right: 1em; text-align: center; vertical-align: top\">0.0</td>\n",
       "    </tr>\n",
       "    <tr>\n",
       "        <td style=\"padding-left: 1em; padding-right: 1em; text-align: center; vertical-align: top\">0.0</td>\n",
       "        <td style=\"padding-left: 1em; padding-right: 1em; text-align: center; vertical-align: top\">0</td>\n",
       "        <td style=\"padding-left: 1em; padding-right: 1em; text-align: center; vertical-align: top\">0</td>\n",
       "        <td style=\"padding-left: 1em; padding-right: 1em; text-align: center; vertical-align: top\">0.0</td>\n",
       "        <td style=\"padding-left: 1em; padding-right: 1em; text-align: center; vertical-align: top\">0.0</td>\n",
       "    </tr>\n",
       "    <tr>\n",
       "        <td style=\"padding-left: 1em; padding-right: 1em; text-align: center; vertical-align: top\">0.0</td>\n",
       "        <td style=\"padding-left: 1em; padding-right: 1em; text-align: center; vertical-align: top\">0</td>\n",
       "        <td style=\"padding-left: 1em; padding-right: 1em; text-align: center; vertical-align: top\">0</td>\n",
       "        <td style=\"padding-left: 1em; padding-right: 1em; text-align: center; vertical-align: top\">0.0</td>\n",
       "        <td style=\"padding-left: 1em; padding-right: 1em; text-align: center; vertical-align: top\">0.0</td>\n",
       "    </tr>\n",
       "    <tr>\n",
       "        <td style=\"padding-left: 1em; padding-right: 1em; text-align: center; vertical-align: top\">0.0</td>\n",
       "        <td style=\"padding-left: 1em; padding-right: 1em; text-align: center; vertical-align: top\">0</td>\n",
       "        <td style=\"padding-left: 1em; padding-right: 1em; text-align: center; vertical-align: top\">0</td>\n",
       "        <td style=\"padding-left: 1em; padding-right: 1em; text-align: center; vertical-align: top\">0.0</td>\n",
       "        <td style=\"padding-left: 1em; padding-right: 1em; text-align: center; vertical-align: top\">195.0</td>\n",
       "    </tr>\n",
       "    <tr>\n",
       "        <td style=\"padding-left: 1em; padding-right: 1em; text-align: center; vertical-align: top\">0.0</td>\n",
       "        <td style=\"padding-left: 1em; padding-right: 1em; text-align: center; vertical-align: top\">0</td>\n",
       "        <td style=\"padding-left: 1em; padding-right: 1em; text-align: center; vertical-align: top\">0</td>\n",
       "        <td style=\"padding-left: 1em; padding-right: 1em; text-align: center; vertical-align: top\">0.0</td>\n",
       "        <td style=\"padding-left: 1em; padding-right: 1em; text-align: center; vertical-align: top\">0.0</td>\n",
       "    </tr>\n",
       "    <tr>\n",
       "        <td style=\"padding-left: 1em; padding-right: 1em; text-align: center; vertical-align: top\">0.0</td>\n",
       "        <td style=\"padding-left: 1em; padding-right: 1em; text-align: center; vertical-align: top\">0</td>\n",
       "        <td style=\"padding-left: 1em; padding-right: 1em; text-align: center; vertical-align: top\">0</td>\n",
       "        <td style=\"padding-left: 1em; padding-right: 1em; text-align: center; vertical-align: top\">0.0</td>\n",
       "        <td style=\"padding-left: 1em; padding-right: 1em; text-align: center; vertical-align: top\">0.0</td>\n",
       "    </tr>\n",
       "    <tr>\n",
       "        <td style=\"padding-left: 1em; padding-right: 1em; text-align: center; vertical-align: top\">0.0</td>\n",
       "        <td style=\"padding-left: 1em; padding-right: 1em; text-align: center; vertical-align: top\">0</td>\n",
       "        <td style=\"padding-left: 1em; padding-right: 1em; text-align: center; vertical-align: top\">0</td>\n",
       "        <td style=\"padding-left: 1em; padding-right: 1em; text-align: center; vertical-align: top\">0.0</td>\n",
       "        <td style=\"padding-left: 1em; padding-right: 1em; text-align: center; vertical-align: top\">0.0</td>\n",
       "    </tr>\n",
       "    <tr>\n",
       "        <td style=\"padding-left: 1em; padding-right: 1em; text-align: center; vertical-align: top\">0.0</td>\n",
       "        <td style=\"padding-left: 1em; padding-right: 1em; text-align: center; vertical-align: top\">0</td>\n",
       "        <td style=\"padding-left: 1em; padding-right: 1em; text-align: center; vertical-align: top\">0</td>\n",
       "        <td style=\"padding-left: 1em; padding-right: 1em; text-align: center; vertical-align: top\">0.0</td>\n",
       "        <td style=\"padding-left: 1em; padding-right: 1em; text-align: center; vertical-align: top\">0.0</td>\n",
       "    </tr>\n",
       "    <tr>\n",
       "        <td style=\"padding-left: 1em; padding-right: 1em; text-align: center; vertical-align: top\">0.0</td>\n",
       "        <td style=\"padding-left: 1em; padding-right: 1em; text-align: center; vertical-align: top\">0</td>\n",
       "        <td style=\"padding-left: 1em; padding-right: 1em; text-align: center; vertical-align: top\">0</td>\n",
       "        <td style=\"padding-left: 1em; padding-right: 1em; text-align: center; vertical-align: top\">0.0</td>\n",
       "        <td style=\"padding-left: 1em; padding-right: 1em; text-align: center; vertical-align: top\">0.0</td>\n",
       "    </tr>\n",
       "    <tr>\n",
       "        <td style=\"padding-left: 1em; padding-right: 1em; text-align: center; vertical-align: top\">0.0</td>\n",
       "        <td style=\"padding-left: 1em; padding-right: 1em; text-align: center; vertical-align: top\">0</td>\n",
       "        <td style=\"padding-left: 1em; padding-right: 1em; text-align: center; vertical-align: top\">0</td>\n",
       "        <td style=\"padding-left: 1em; padding-right: 1em; text-align: center; vertical-align: top\">0.0</td>\n",
       "        <td style=\"padding-left: 1em; padding-right: 1em; text-align: center; vertical-align: top\">0.0</td>\n",
       "    </tr>\n",
       "</table>\n",
       "<table frame=\"box\" rules=\"cols\">\n",
       "    <tr>\n",
       "        <th style=\"padding-left: 1em; padding-right: 1em; text-align: center\">imp_op_var41_comer_ult3</th>\n",
       "        <th style=\"padding-left: 1em; padding-right: 1em; text-align: center\">imp_op_var41_efect_ult1</th>\n",
       "        <th style=\"padding-left: 1em; padding-right: 1em; text-align: center\">imp_op_var41_efect_ult3</th>\n",
       "        <th style=\"padding-left: 1em; padding-right: 1em; text-align: center\">imp_op_var41_ult1</th>\n",
       "        <th style=\"padding-left: 1em; padding-right: 1em; text-align: center\">imp_op_var39_efect_ult1</th>\n",
       "    </tr>\n",
       "    <tr>\n",
       "        <td style=\"padding-left: 1em; padding-right: 1em; text-align: center; vertical-align: top\">0.0</td>\n",
       "        <td style=\"padding-left: 1em; padding-right: 1em; text-align: center; vertical-align: top\">0</td>\n",
       "        <td style=\"padding-left: 1em; padding-right: 1em; text-align: center; vertical-align: top\">0</td>\n",
       "        <td style=\"padding-left: 1em; padding-right: 1em; text-align: center; vertical-align: top\">0.0</td>\n",
       "        <td style=\"padding-left: 1em; padding-right: 1em; text-align: center; vertical-align: top\">0</td>\n",
       "    </tr>\n",
       "    <tr>\n",
       "        <td style=\"padding-left: 1em; padding-right: 1em; text-align: center; vertical-align: top\">0.0</td>\n",
       "        <td style=\"padding-left: 1em; padding-right: 1em; text-align: center; vertical-align: top\">0</td>\n",
       "        <td style=\"padding-left: 1em; padding-right: 1em; text-align: center; vertical-align: top\">0</td>\n",
       "        <td style=\"padding-left: 1em; padding-right: 1em; text-align: center; vertical-align: top\">0.0</td>\n",
       "        <td style=\"padding-left: 1em; padding-right: 1em; text-align: center; vertical-align: top\">0</td>\n",
       "    </tr>\n",
       "    <tr>\n",
       "        <td style=\"padding-left: 1em; padding-right: 1em; text-align: center; vertical-align: top\">0.0</td>\n",
       "        <td style=\"padding-left: 1em; padding-right: 1em; text-align: center; vertical-align: top\">0</td>\n",
       "        <td style=\"padding-left: 1em; padding-right: 1em; text-align: center; vertical-align: top\">0</td>\n",
       "        <td style=\"padding-left: 1em; padding-right: 1em; text-align: center; vertical-align: top\">0.0</td>\n",
       "        <td style=\"padding-left: 1em; padding-right: 1em; text-align: center; vertical-align: top\">0</td>\n",
       "    </tr>\n",
       "    <tr>\n",
       "        <td style=\"padding-left: 1em; padding-right: 1em; text-align: center; vertical-align: top\">195.0</td>\n",
       "        <td style=\"padding-left: 1em; padding-right: 1em; text-align: center; vertical-align: top\">0</td>\n",
       "        <td style=\"padding-left: 1em; padding-right: 1em; text-align: center; vertical-align: top\">0</td>\n",
       "        <td style=\"padding-left: 1em; padding-right: 1em; text-align: center; vertical-align: top\">195.0</td>\n",
       "        <td style=\"padding-left: 1em; padding-right: 1em; text-align: center; vertical-align: top\">0</td>\n",
       "    </tr>\n",
       "    <tr>\n",
       "        <td style=\"padding-left: 1em; padding-right: 1em; text-align: center; vertical-align: top\">0.0</td>\n",
       "        <td style=\"padding-left: 1em; padding-right: 1em; text-align: center; vertical-align: top\">0</td>\n",
       "        <td style=\"padding-left: 1em; padding-right: 1em; text-align: center; vertical-align: top\">0</td>\n",
       "        <td style=\"padding-left: 1em; padding-right: 1em; text-align: center; vertical-align: top\">0.0</td>\n",
       "        <td style=\"padding-left: 1em; padding-right: 1em; text-align: center; vertical-align: top\">0</td>\n",
       "    </tr>\n",
       "    <tr>\n",
       "        <td style=\"padding-left: 1em; padding-right: 1em; text-align: center; vertical-align: top\">0.0</td>\n",
       "        <td style=\"padding-left: 1em; padding-right: 1em; text-align: center; vertical-align: top\">0</td>\n",
       "        <td style=\"padding-left: 1em; padding-right: 1em; text-align: center; vertical-align: top\">0</td>\n",
       "        <td style=\"padding-left: 1em; padding-right: 1em; text-align: center; vertical-align: top\">0.0</td>\n",
       "        <td style=\"padding-left: 1em; padding-right: 1em; text-align: center; vertical-align: top\">0</td>\n",
       "    </tr>\n",
       "    <tr>\n",
       "        <td style=\"padding-left: 1em; padding-right: 1em; text-align: center; vertical-align: top\">0.0</td>\n",
       "        <td style=\"padding-left: 1em; padding-right: 1em; text-align: center; vertical-align: top\">0</td>\n",
       "        <td style=\"padding-left: 1em; padding-right: 1em; text-align: center; vertical-align: top\">0</td>\n",
       "        <td style=\"padding-left: 1em; padding-right: 1em; text-align: center; vertical-align: top\">0.0</td>\n",
       "        <td style=\"padding-left: 1em; padding-right: 1em; text-align: center; vertical-align: top\">0</td>\n",
       "    </tr>\n",
       "    <tr>\n",
       "        <td style=\"padding-left: 1em; padding-right: 1em; text-align: center; vertical-align: top\">0.0</td>\n",
       "        <td style=\"padding-left: 1em; padding-right: 1em; text-align: center; vertical-align: top\">0</td>\n",
       "        <td style=\"padding-left: 1em; padding-right: 1em; text-align: center; vertical-align: top\">0</td>\n",
       "        <td style=\"padding-left: 1em; padding-right: 1em; text-align: center; vertical-align: top\">0.0</td>\n",
       "        <td style=\"padding-left: 1em; padding-right: 1em; text-align: center; vertical-align: top\">0</td>\n",
       "    </tr>\n",
       "    <tr>\n",
       "        <td style=\"padding-left: 1em; padding-right: 1em; text-align: center; vertical-align: top\">0.0</td>\n",
       "        <td style=\"padding-left: 1em; padding-right: 1em; text-align: center; vertical-align: top\">0</td>\n",
       "        <td style=\"padding-left: 1em; padding-right: 1em; text-align: center; vertical-align: top\">0</td>\n",
       "        <td style=\"padding-left: 1em; padding-right: 1em; text-align: center; vertical-align: top\">0.0</td>\n",
       "        <td style=\"padding-left: 1em; padding-right: 1em; text-align: center; vertical-align: top\">0</td>\n",
       "    </tr>\n",
       "    <tr>\n",
       "        <td style=\"padding-left: 1em; padding-right: 1em; text-align: center; vertical-align: top\">0.0</td>\n",
       "        <td style=\"padding-left: 1em; padding-right: 1em; text-align: center; vertical-align: top\">0</td>\n",
       "        <td style=\"padding-left: 1em; padding-right: 1em; text-align: center; vertical-align: top\">0</td>\n",
       "        <td style=\"padding-left: 1em; padding-right: 1em; text-align: center; vertical-align: top\">0.0</td>\n",
       "        <td style=\"padding-left: 1em; padding-right: 1em; text-align: center; vertical-align: top\">0</td>\n",
       "    </tr>\n",
       "</table>\n",
       "<table frame=\"box\" rules=\"cols\">\n",
       "    <tr>\n",
       "        <th style=\"padding-left: 1em; padding-right: 1em; text-align: center\">imp_op_var39_efect_ult3</th>\n",
       "        <th style=\"padding-left: 1em; padding-right: 1em; text-align: center\">imp_op_var39_ult1</th>\n",
       "        <th style=\"padding-left: 1em; padding-right: 1em; text-align: center\">imp_sal_var16_ult1</th>\n",
       "        <th style=\"padding-left: 1em; padding-right: 1em; text-align: center\">ind_var1_0</th>\n",
       "        <th style=\"padding-left: 1em; padding-right: 1em; text-align: center\">ind_var1</th>\n",
       "        <th style=\"padding-left: 1em; padding-right: 1em; text-align: center\">ind_var2_0</th>\n",
       "        <th style=\"padding-left: 1em; padding-right: 1em; text-align: center\">ind_var2</th>\n",
       "        <th style=\"padding-left: 1em; padding-right: 1em; text-align: center\">ind_var5_0</th>\n",
       "    </tr>\n",
       "    <tr>\n",
       "        <td style=\"padding-left: 1em; padding-right: 1em; text-align: center; vertical-align: top\">0</td>\n",
       "        <td style=\"padding-left: 1em; padding-right: 1em; text-align: center; vertical-align: top\">0.0</td>\n",
       "        <td style=\"padding-left: 1em; padding-right: 1em; text-align: center; vertical-align: top\">0</td>\n",
       "        <td style=\"padding-left: 1em; padding-right: 1em; text-align: center; vertical-align: top\">0</td>\n",
       "        <td style=\"padding-left: 1em; padding-right: 1em; text-align: center; vertical-align: top\">0</td>\n",
       "        <td style=\"padding-left: 1em; padding-right: 1em; text-align: center; vertical-align: top\">0</td>\n",
       "        <td style=\"padding-left: 1em; padding-right: 1em; text-align: center; vertical-align: top\">0</td>\n",
       "        <td style=\"padding-left: 1em; padding-right: 1em; text-align: center; vertical-align: top\">1</td>\n",
       "    </tr>\n",
       "    <tr>\n",
       "        <td style=\"padding-left: 1em; padding-right: 1em; text-align: center; vertical-align: top\">0</td>\n",
       "        <td style=\"padding-left: 1em; padding-right: 1em; text-align: center; vertical-align: top\">0.0</td>\n",
       "        <td style=\"padding-left: 1em; padding-right: 1em; text-align: center; vertical-align: top\">0</td>\n",
       "        <td style=\"padding-left: 1em; padding-right: 1em; text-align: center; vertical-align: top\">0</td>\n",
       "        <td style=\"padding-left: 1em; padding-right: 1em; text-align: center; vertical-align: top\">0</td>\n",
       "        <td style=\"padding-left: 1em; padding-right: 1em; text-align: center; vertical-align: top\">0</td>\n",
       "        <td style=\"padding-left: 1em; padding-right: 1em; text-align: center; vertical-align: top\">0</td>\n",
       "        <td style=\"padding-left: 1em; padding-right: 1em; text-align: center; vertical-align: top\">1</td>\n",
       "    </tr>\n",
       "    <tr>\n",
       "        <td style=\"padding-left: 1em; padding-right: 1em; text-align: center; vertical-align: top\">0</td>\n",
       "        <td style=\"padding-left: 1em; padding-right: 1em; text-align: center; vertical-align: top\">0.0</td>\n",
       "        <td style=\"padding-left: 1em; padding-right: 1em; text-align: center; vertical-align: top\">0</td>\n",
       "        <td style=\"padding-left: 1em; padding-right: 1em; text-align: center; vertical-align: top\">0</td>\n",
       "        <td style=\"padding-left: 1em; padding-right: 1em; text-align: center; vertical-align: top\">0</td>\n",
       "        <td style=\"padding-left: 1em; padding-right: 1em; text-align: center; vertical-align: top\">0</td>\n",
       "        <td style=\"padding-left: 1em; padding-right: 1em; text-align: center; vertical-align: top\">0</td>\n",
       "        <td style=\"padding-left: 1em; padding-right: 1em; text-align: center; vertical-align: top\">1</td>\n",
       "    </tr>\n",
       "    <tr>\n",
       "        <td style=\"padding-left: 1em; padding-right: 1em; text-align: center; vertical-align: top\">0</td>\n",
       "        <td style=\"padding-left: 1em; padding-right: 1em; text-align: center; vertical-align: top\">195.0</td>\n",
       "        <td style=\"padding-left: 1em; padding-right: 1em; text-align: center; vertical-align: top\">0</td>\n",
       "        <td style=\"padding-left: 1em; padding-right: 1em; text-align: center; vertical-align: top\">0</td>\n",
       "        <td style=\"padding-left: 1em; padding-right: 1em; text-align: center; vertical-align: top\">0</td>\n",
       "        <td style=\"padding-left: 1em; padding-right: 1em; text-align: center; vertical-align: top\">0</td>\n",
       "        <td style=\"padding-left: 1em; padding-right: 1em; text-align: center; vertical-align: top\">0</td>\n",
       "        <td style=\"padding-left: 1em; padding-right: 1em; text-align: center; vertical-align: top\">1</td>\n",
       "    </tr>\n",
       "    <tr>\n",
       "        <td style=\"padding-left: 1em; padding-right: 1em; text-align: center; vertical-align: top\">0</td>\n",
       "        <td style=\"padding-left: 1em; padding-right: 1em; text-align: center; vertical-align: top\">0.0</td>\n",
       "        <td style=\"padding-left: 1em; padding-right: 1em; text-align: center; vertical-align: top\">0</td>\n",
       "        <td style=\"padding-left: 1em; padding-right: 1em; text-align: center; vertical-align: top\">0</td>\n",
       "        <td style=\"padding-left: 1em; padding-right: 1em; text-align: center; vertical-align: top\">0</td>\n",
       "        <td style=\"padding-left: 1em; padding-right: 1em; text-align: center; vertical-align: top\">0</td>\n",
       "        <td style=\"padding-left: 1em; padding-right: 1em; text-align: center; vertical-align: top\">0</td>\n",
       "        <td style=\"padding-left: 1em; padding-right: 1em; text-align: center; vertical-align: top\">1</td>\n",
       "    </tr>\n",
       "    <tr>\n",
       "        <td style=\"padding-left: 1em; padding-right: 1em; text-align: center; vertical-align: top\">0</td>\n",
       "        <td style=\"padding-left: 1em; padding-right: 1em; text-align: center; vertical-align: top\">0.0</td>\n",
       "        <td style=\"padding-left: 1em; padding-right: 1em; text-align: center; vertical-align: top\">0</td>\n",
       "        <td style=\"padding-left: 1em; padding-right: 1em; text-align: center; vertical-align: top\">0</td>\n",
       "        <td style=\"padding-left: 1em; padding-right: 1em; text-align: center; vertical-align: top\">0</td>\n",
       "        <td style=\"padding-left: 1em; padding-right: 1em; text-align: center; vertical-align: top\">0</td>\n",
       "        <td style=\"padding-left: 1em; padding-right: 1em; text-align: center; vertical-align: top\">0</td>\n",
       "        <td style=\"padding-left: 1em; padding-right: 1em; text-align: center; vertical-align: top\">1</td>\n",
       "    </tr>\n",
       "    <tr>\n",
       "        <td style=\"padding-left: 1em; padding-right: 1em; text-align: center; vertical-align: top\">0</td>\n",
       "        <td style=\"padding-left: 1em; padding-right: 1em; text-align: center; vertical-align: top\">0.0</td>\n",
       "        <td style=\"padding-left: 1em; padding-right: 1em; text-align: center; vertical-align: top\">0</td>\n",
       "        <td style=\"padding-left: 1em; padding-right: 1em; text-align: center; vertical-align: top\">0</td>\n",
       "        <td style=\"padding-left: 1em; padding-right: 1em; text-align: center; vertical-align: top\">0</td>\n",
       "        <td style=\"padding-left: 1em; padding-right: 1em; text-align: center; vertical-align: top\">0</td>\n",
       "        <td style=\"padding-left: 1em; padding-right: 1em; text-align: center; vertical-align: top\">0</td>\n",
       "        <td style=\"padding-left: 1em; padding-right: 1em; text-align: center; vertical-align: top\">1</td>\n",
       "    </tr>\n",
       "    <tr>\n",
       "        <td style=\"padding-left: 1em; padding-right: 1em; text-align: center; vertical-align: top\">0</td>\n",
       "        <td style=\"padding-left: 1em; padding-right: 1em; text-align: center; vertical-align: top\">0.0</td>\n",
       "        <td style=\"padding-left: 1em; padding-right: 1em; text-align: center; vertical-align: top\">0</td>\n",
       "        <td style=\"padding-left: 1em; padding-right: 1em; text-align: center; vertical-align: top\">0</td>\n",
       "        <td style=\"padding-left: 1em; padding-right: 1em; text-align: center; vertical-align: top\">0</td>\n",
       "        <td style=\"padding-left: 1em; padding-right: 1em; text-align: center; vertical-align: top\">0</td>\n",
       "        <td style=\"padding-left: 1em; padding-right: 1em; text-align: center; vertical-align: top\">0</td>\n",
       "        <td style=\"padding-left: 1em; padding-right: 1em; text-align: center; vertical-align: top\">1</td>\n",
       "    </tr>\n",
       "    <tr>\n",
       "        <td style=\"padding-left: 1em; padding-right: 1em; text-align: center; vertical-align: top\">0</td>\n",
       "        <td style=\"padding-left: 1em; padding-right: 1em; text-align: center; vertical-align: top\">0.0</td>\n",
       "        <td style=\"padding-left: 1em; padding-right: 1em; text-align: center; vertical-align: top\">0</td>\n",
       "        <td style=\"padding-left: 1em; padding-right: 1em; text-align: center; vertical-align: top\">0</td>\n",
       "        <td style=\"padding-left: 1em; padding-right: 1em; text-align: center; vertical-align: top\">0</td>\n",
       "        <td style=\"padding-left: 1em; padding-right: 1em; text-align: center; vertical-align: top\">0</td>\n",
       "        <td style=\"padding-left: 1em; padding-right: 1em; text-align: center; vertical-align: top\">0</td>\n",
       "        <td style=\"padding-left: 1em; padding-right: 1em; text-align: center; vertical-align: top\">1</td>\n",
       "    </tr>\n",
       "    <tr>\n",
       "        <td style=\"padding-left: 1em; padding-right: 1em; text-align: center; vertical-align: top\">0</td>\n",
       "        <td style=\"padding-left: 1em; padding-right: 1em; text-align: center; vertical-align: top\">0.0</td>\n",
       "        <td style=\"padding-left: 1em; padding-right: 1em; text-align: center; vertical-align: top\">0</td>\n",
       "        <td style=\"padding-left: 1em; padding-right: 1em; text-align: center; vertical-align: top\">0</td>\n",
       "        <td style=\"padding-left: 1em; padding-right: 1em; text-align: center; vertical-align: top\">0</td>\n",
       "        <td style=\"padding-left: 1em; padding-right: 1em; text-align: center; vertical-align: top\">0</td>\n",
       "        <td style=\"padding-left: 1em; padding-right: 1em; text-align: center; vertical-align: top\">0</td>\n",
       "        <td style=\"padding-left: 1em; padding-right: 1em; text-align: center; vertical-align: top\">1</td>\n",
       "    </tr>\n",
       "</table>\n",
       "<table frame=\"box\" rules=\"cols\">\n",
       "    <tr>\n",
       "        <th style=\"padding-left: 1em; padding-right: 1em; text-align: center\">ind_var5</th>\n",
       "        <th style=\"padding-left: 1em; padding-right: 1em; text-align: center\">ind_var6_0</th>\n",
       "        <th style=\"padding-left: 1em; padding-right: 1em; text-align: center\">ind_var6</th>\n",
       "        <th style=\"padding-left: 1em; padding-right: 1em; text-align: center\">ind_var8_0</th>\n",
       "        <th style=\"padding-left: 1em; padding-right: 1em; text-align: center\">ind_var8</th>\n",
       "        <th style=\"padding-left: 1em; padding-right: 1em; text-align: center\">ind_var12_0</th>\n",
       "        <th style=\"padding-left: 1em; padding-right: 1em; text-align: center\">ind_var12</th>\n",
       "        <th style=\"padding-left: 1em; padding-right: 1em; text-align: center\">ind_var13_0</th>\n",
       "        <th style=\"padding-left: 1em; padding-right: 1em; text-align: center\">ind_var13_corto_0</th>\n",
       "    </tr>\n",
       "    <tr>\n",
       "        <td style=\"padding-left: 1em; padding-right: 1em; text-align: center; vertical-align: top\">0</td>\n",
       "        <td style=\"padding-left: 1em; padding-right: 1em; text-align: center; vertical-align: top\">0</td>\n",
       "        <td style=\"padding-left: 1em; padding-right: 1em; text-align: center; vertical-align: top\">0</td>\n",
       "        <td style=\"padding-left: 1em; padding-right: 1em; text-align: center; vertical-align: top\">0</td>\n",
       "        <td style=\"padding-left: 1em; padding-right: 1em; text-align: center; vertical-align: top\">0</td>\n",
       "        <td style=\"padding-left: 1em; padding-right: 1em; text-align: center; vertical-align: top\">0</td>\n",
       "        <td style=\"padding-left: 1em; padding-right: 1em; text-align: center; vertical-align: top\">0</td>\n",
       "        <td style=\"padding-left: 1em; padding-right: 1em; text-align: center; vertical-align: top\">0</td>\n",
       "        <td style=\"padding-left: 1em; padding-right: 1em; text-align: center; vertical-align: top\">0</td>\n",
       "    </tr>\n",
       "    <tr>\n",
       "        <td style=\"padding-left: 1em; padding-right: 1em; text-align: center; vertical-align: top\">0</td>\n",
       "        <td style=\"padding-left: 1em; padding-right: 1em; text-align: center; vertical-align: top\">0</td>\n",
       "        <td style=\"padding-left: 1em; padding-right: 1em; text-align: center; vertical-align: top\">0</td>\n",
       "        <td style=\"padding-left: 1em; padding-right: 1em; text-align: center; vertical-align: top\">0</td>\n",
       "        <td style=\"padding-left: 1em; padding-right: 1em; text-align: center; vertical-align: top\">0</td>\n",
       "        <td style=\"padding-left: 1em; padding-right: 1em; text-align: center; vertical-align: top\">0</td>\n",
       "        <td style=\"padding-left: 1em; padding-right: 1em; text-align: center; vertical-align: top\">0</td>\n",
       "        <td style=\"padding-left: 1em; padding-right: 1em; text-align: center; vertical-align: top\">1</td>\n",
       "        <td style=\"padding-left: 1em; padding-right: 1em; text-align: center; vertical-align: top\">1</td>\n",
       "    </tr>\n",
       "    <tr>\n",
       "        <td style=\"padding-left: 1em; padding-right: 1em; text-align: center; vertical-align: top\">1</td>\n",
       "        <td style=\"padding-left: 1em; padding-right: 1em; text-align: center; vertical-align: top\">0</td>\n",
       "        <td style=\"padding-left: 1em; padding-right: 1em; text-align: center; vertical-align: top\">0</td>\n",
       "        <td style=\"padding-left: 1em; padding-right: 1em; text-align: center; vertical-align: top\">0</td>\n",
       "        <td style=\"padding-left: 1em; padding-right: 1em; text-align: center; vertical-align: top\">0</td>\n",
       "        <td style=\"padding-left: 1em; padding-right: 1em; text-align: center; vertical-align: top\">0</td>\n",
       "        <td style=\"padding-left: 1em; padding-right: 1em; text-align: center; vertical-align: top\">0</td>\n",
       "        <td style=\"padding-left: 1em; padding-right: 1em; text-align: center; vertical-align: top\">0</td>\n",
       "        <td style=\"padding-left: 1em; padding-right: 1em; text-align: center; vertical-align: top\">0</td>\n",
       "    </tr>\n",
       "    <tr>\n",
       "        <td style=\"padding-left: 1em; padding-right: 1em; text-align: center; vertical-align: top\">1</td>\n",
       "        <td style=\"padding-left: 1em; padding-right: 1em; text-align: center; vertical-align: top\">0</td>\n",
       "        <td style=\"padding-left: 1em; padding-right: 1em; text-align: center; vertical-align: top\">0</td>\n",
       "        <td style=\"padding-left: 1em; padding-right: 1em; text-align: center; vertical-align: top\">0</td>\n",
       "        <td style=\"padding-left: 1em; padding-right: 1em; text-align: center; vertical-align: top\">0</td>\n",
       "        <td style=\"padding-left: 1em; padding-right: 1em; text-align: center; vertical-align: top\">0</td>\n",
       "        <td style=\"padding-left: 1em; padding-right: 1em; text-align: center; vertical-align: top\">0</td>\n",
       "        <td style=\"padding-left: 1em; padding-right: 1em; text-align: center; vertical-align: top\">0</td>\n",
       "        <td style=\"padding-left: 1em; padding-right: 1em; text-align: center; vertical-align: top\">0</td>\n",
       "    </tr>\n",
       "    <tr>\n",
       "        <td style=\"padding-left: 1em; padding-right: 1em; text-align: center; vertical-align: top\">0</td>\n",
       "        <td style=\"padding-left: 1em; padding-right: 1em; text-align: center; vertical-align: top\">0</td>\n",
       "        <td style=\"padding-left: 1em; padding-right: 1em; text-align: center; vertical-align: top\">0</td>\n",
       "        <td style=\"padding-left: 1em; padding-right: 1em; text-align: center; vertical-align: top\">0</td>\n",
       "        <td style=\"padding-left: 1em; padding-right: 1em; text-align: center; vertical-align: top\">0</td>\n",
       "        <td style=\"padding-left: 1em; padding-right: 1em; text-align: center; vertical-align: top\">1</td>\n",
       "        <td style=\"padding-left: 1em; padding-right: 1em; text-align: center; vertical-align: top\">1</td>\n",
       "        <td style=\"padding-left: 1em; padding-right: 1em; text-align: center; vertical-align: top\">0</td>\n",
       "        <td style=\"padding-left: 1em; padding-right: 1em; text-align: center; vertical-align: top\">0</td>\n",
       "    </tr>\n",
       "    <tr>\n",
       "        <td style=\"padding-left: 1em; padding-right: 1em; text-align: center; vertical-align: top\">0</td>\n",
       "        <td style=\"padding-left: 1em; padding-right: 1em; text-align: center; vertical-align: top\">0</td>\n",
       "        <td style=\"padding-left: 1em; padding-right: 1em; text-align: center; vertical-align: top\">0</td>\n",
       "        <td style=\"padding-left: 1em; padding-right: 1em; text-align: center; vertical-align: top\">0</td>\n",
       "        <td style=\"padding-left: 1em; padding-right: 1em; text-align: center; vertical-align: top\">0</td>\n",
       "        <td style=\"padding-left: 1em; padding-right: 1em; text-align: center; vertical-align: top\">0</td>\n",
       "        <td style=\"padding-left: 1em; padding-right: 1em; text-align: center; vertical-align: top\">0</td>\n",
       "        <td style=\"padding-left: 1em; padding-right: 1em; text-align: center; vertical-align: top\">0</td>\n",
       "        <td style=\"padding-left: 1em; padding-right: 1em; text-align: center; vertical-align: top\">0</td>\n",
       "    </tr>\n",
       "    <tr>\n",
       "        <td style=\"padding-left: 1em; padding-right: 1em; text-align: center; vertical-align: top\">1</td>\n",
       "        <td style=\"padding-left: 1em; padding-right: 1em; text-align: center; vertical-align: top\">0</td>\n",
       "        <td style=\"padding-left: 1em; padding-right: 1em; text-align: center; vertical-align: top\">0</td>\n",
       "        <td style=\"padding-left: 1em; padding-right: 1em; text-align: center; vertical-align: top\">0</td>\n",
       "        <td style=\"padding-left: 1em; padding-right: 1em; text-align: center; vertical-align: top\">0</td>\n",
       "        <td style=\"padding-left: 1em; padding-right: 1em; text-align: center; vertical-align: top\">0</td>\n",
       "        <td style=\"padding-left: 1em; padding-right: 1em; text-align: center; vertical-align: top\">0</td>\n",
       "        <td style=\"padding-left: 1em; padding-right: 1em; text-align: center; vertical-align: top\">0</td>\n",
       "        <td style=\"padding-left: 1em; padding-right: 1em; text-align: center; vertical-align: top\">0</td>\n",
       "    </tr>\n",
       "    <tr>\n",
       "        <td style=\"padding-left: 1em; padding-right: 1em; text-align: center; vertical-align: top\">1</td>\n",
       "        <td style=\"padding-left: 1em; padding-right: 1em; text-align: center; vertical-align: top\">0</td>\n",
       "        <td style=\"padding-left: 1em; padding-right: 1em; text-align: center; vertical-align: top\">0</td>\n",
       "        <td style=\"padding-left: 1em; padding-right: 1em; text-align: center; vertical-align: top\">0</td>\n",
       "        <td style=\"padding-left: 1em; padding-right: 1em; text-align: center; vertical-align: top\">0</td>\n",
       "        <td style=\"padding-left: 1em; padding-right: 1em; text-align: center; vertical-align: top\">0</td>\n",
       "        <td style=\"padding-left: 1em; padding-right: 1em; text-align: center; vertical-align: top\">0</td>\n",
       "        <td style=\"padding-left: 1em; padding-right: 1em; text-align: center; vertical-align: top\">0</td>\n",
       "        <td style=\"padding-left: 1em; padding-right: 1em; text-align: center; vertical-align: top\">0</td>\n",
       "    </tr>\n",
       "    <tr>\n",
       "        <td style=\"padding-left: 1em; padding-right: 1em; text-align: center; vertical-align: top\">0</td>\n",
       "        <td style=\"padding-left: 1em; padding-right: 1em; text-align: center; vertical-align: top\">0</td>\n",
       "        <td style=\"padding-left: 1em; padding-right: 1em; text-align: center; vertical-align: top\">0</td>\n",
       "        <td style=\"padding-left: 1em; padding-right: 1em; text-align: center; vertical-align: top\">0</td>\n",
       "        <td style=\"padding-left: 1em; padding-right: 1em; text-align: center; vertical-align: top\">0</td>\n",
       "        <td style=\"padding-left: 1em; padding-right: 1em; text-align: center; vertical-align: top\">0</td>\n",
       "        <td style=\"padding-left: 1em; padding-right: 1em; text-align: center; vertical-align: top\">0</td>\n",
       "        <td style=\"padding-left: 1em; padding-right: 1em; text-align: center; vertical-align: top\">0</td>\n",
       "        <td style=\"padding-left: 1em; padding-right: 1em; text-align: center; vertical-align: top\">0</td>\n",
       "    </tr>\n",
       "    <tr>\n",
       "        <td style=\"padding-left: 1em; padding-right: 1em; text-align: center; vertical-align: top\">1</td>\n",
       "        <td style=\"padding-left: 1em; padding-right: 1em; text-align: center; vertical-align: top\">0</td>\n",
       "        <td style=\"padding-left: 1em; padding-right: 1em; text-align: center; vertical-align: top\">0</td>\n",
       "        <td style=\"padding-left: 1em; padding-right: 1em; text-align: center; vertical-align: top\">0</td>\n",
       "        <td style=\"padding-left: 1em; padding-right: 1em; text-align: center; vertical-align: top\">0</td>\n",
       "        <td style=\"padding-left: 1em; padding-right: 1em; text-align: center; vertical-align: top\">0</td>\n",
       "        <td style=\"padding-left: 1em; padding-right: 1em; text-align: center; vertical-align: top\">0</td>\n",
       "        <td style=\"padding-left: 1em; padding-right: 1em; text-align: center; vertical-align: top\">0</td>\n",
       "        <td style=\"padding-left: 1em; padding-right: 1em; text-align: center; vertical-align: top\">0</td>\n",
       "    </tr>\n",
       "</table>\n",
       "<table frame=\"box\" rules=\"cols\">\n",
       "    <tr>\n",
       "        <th style=\"padding-left: 1em; padding-right: 1em; text-align: center\">ind_var13_corto</th>\n",
       "        <th style=\"padding-left: 1em; padding-right: 1em; text-align: center\">ind_var13_largo_0</th>\n",
       "        <th style=\"padding-left: 1em; padding-right: 1em; text-align: center\">ind_var13_largo</th>\n",
       "        <th style=\"padding-left: 1em; padding-right: 1em; text-align: center\">ind_var13_medio_0</th>\n",
       "        <th style=\"padding-left: 1em; padding-right: 1em; text-align: center\">ind_var13_medio</th>\n",
       "        <th style=\"padding-left: 1em; padding-right: 1em; text-align: center\">ind_var13</th>\n",
       "        <th style=\"padding-left: 1em; padding-right: 1em; text-align: center\">...</th>\n",
       "    </tr>\n",
       "    <tr>\n",
       "        <td style=\"padding-left: 1em; padding-right: 1em; text-align: center; vertical-align: top\">0</td>\n",
       "        <td style=\"padding-left: 1em; padding-right: 1em; text-align: center; vertical-align: top\">0</td>\n",
       "        <td style=\"padding-left: 1em; padding-right: 1em; text-align: center; vertical-align: top\">0</td>\n",
       "        <td style=\"padding-left: 1em; padding-right: 1em; text-align: center; vertical-align: top\">0</td>\n",
       "        <td style=\"padding-left: 1em; padding-right: 1em; text-align: center; vertical-align: top\">0</td>\n",
       "        <td style=\"padding-left: 1em; padding-right: 1em; text-align: center; vertical-align: top\">0</td>\n",
       "        <td style=\"padding-left: 1em; padding-right: 1em; text-align: center; vertical-align: top\">...</td>\n",
       "    </tr>\n",
       "    <tr>\n",
       "        <td style=\"padding-left: 1em; padding-right: 1em; text-align: center; vertical-align: top\">1</td>\n",
       "        <td style=\"padding-left: 1em; padding-right: 1em; text-align: center; vertical-align: top\">0</td>\n",
       "        <td style=\"padding-left: 1em; padding-right: 1em; text-align: center; vertical-align: top\">0</td>\n",
       "        <td style=\"padding-left: 1em; padding-right: 1em; text-align: center; vertical-align: top\">0</td>\n",
       "        <td style=\"padding-left: 1em; padding-right: 1em; text-align: center; vertical-align: top\">0</td>\n",
       "        <td style=\"padding-left: 1em; padding-right: 1em; text-align: center; vertical-align: top\">1</td>\n",
       "        <td style=\"padding-left: 1em; padding-right: 1em; text-align: center; vertical-align: top\">...</td>\n",
       "    </tr>\n",
       "    <tr>\n",
       "        <td style=\"padding-left: 1em; padding-right: 1em; text-align: center; vertical-align: top\">0</td>\n",
       "        <td style=\"padding-left: 1em; padding-right: 1em; text-align: center; vertical-align: top\">0</td>\n",
       "        <td style=\"padding-left: 1em; padding-right: 1em; text-align: center; vertical-align: top\">0</td>\n",
       "        <td style=\"padding-left: 1em; padding-right: 1em; text-align: center; vertical-align: top\">0</td>\n",
       "        <td style=\"padding-left: 1em; padding-right: 1em; text-align: center; vertical-align: top\">0</td>\n",
       "        <td style=\"padding-left: 1em; padding-right: 1em; text-align: center; vertical-align: top\">0</td>\n",
       "        <td style=\"padding-left: 1em; padding-right: 1em; text-align: center; vertical-align: top\">...</td>\n",
       "    </tr>\n",
       "    <tr>\n",
       "        <td style=\"padding-left: 1em; padding-right: 1em; text-align: center; vertical-align: top\">0</td>\n",
       "        <td style=\"padding-left: 1em; padding-right: 1em; text-align: center; vertical-align: top\">0</td>\n",
       "        <td style=\"padding-left: 1em; padding-right: 1em; text-align: center; vertical-align: top\">0</td>\n",
       "        <td style=\"padding-left: 1em; padding-right: 1em; text-align: center; vertical-align: top\">0</td>\n",
       "        <td style=\"padding-left: 1em; padding-right: 1em; text-align: center; vertical-align: top\">0</td>\n",
       "        <td style=\"padding-left: 1em; padding-right: 1em; text-align: center; vertical-align: top\">0</td>\n",
       "        <td style=\"padding-left: 1em; padding-right: 1em; text-align: center; vertical-align: top\">...</td>\n",
       "    </tr>\n",
       "    <tr>\n",
       "        <td style=\"padding-left: 1em; padding-right: 1em; text-align: center; vertical-align: top\">0</td>\n",
       "        <td style=\"padding-left: 1em; padding-right: 1em; text-align: center; vertical-align: top\">0</td>\n",
       "        <td style=\"padding-left: 1em; padding-right: 1em; text-align: center; vertical-align: top\">0</td>\n",
       "        <td style=\"padding-left: 1em; padding-right: 1em; text-align: center; vertical-align: top\">0</td>\n",
       "        <td style=\"padding-left: 1em; padding-right: 1em; text-align: center; vertical-align: top\">0</td>\n",
       "        <td style=\"padding-left: 1em; padding-right: 1em; text-align: center; vertical-align: top\">0</td>\n",
       "        <td style=\"padding-left: 1em; padding-right: 1em; text-align: center; vertical-align: top\">...</td>\n",
       "    </tr>\n",
       "    <tr>\n",
       "        <td style=\"padding-left: 1em; padding-right: 1em; text-align: center; vertical-align: top\">0</td>\n",
       "        <td style=\"padding-left: 1em; padding-right: 1em; text-align: center; vertical-align: top\">0</td>\n",
       "        <td style=\"padding-left: 1em; padding-right: 1em; text-align: center; vertical-align: top\">0</td>\n",
       "        <td style=\"padding-left: 1em; padding-right: 1em; text-align: center; vertical-align: top\">0</td>\n",
       "        <td style=\"padding-left: 1em; padding-right: 1em; text-align: center; vertical-align: top\">0</td>\n",
       "        <td style=\"padding-left: 1em; padding-right: 1em; text-align: center; vertical-align: top\">0</td>\n",
       "        <td style=\"padding-left: 1em; padding-right: 1em; text-align: center; vertical-align: top\">...</td>\n",
       "    </tr>\n",
       "    <tr>\n",
       "        <td style=\"padding-left: 1em; padding-right: 1em; text-align: center; vertical-align: top\">0</td>\n",
       "        <td style=\"padding-left: 1em; padding-right: 1em; text-align: center; vertical-align: top\">0</td>\n",
       "        <td style=\"padding-left: 1em; padding-right: 1em; text-align: center; vertical-align: top\">0</td>\n",
       "        <td style=\"padding-left: 1em; padding-right: 1em; text-align: center; vertical-align: top\">0</td>\n",
       "        <td style=\"padding-left: 1em; padding-right: 1em; text-align: center; vertical-align: top\">0</td>\n",
       "        <td style=\"padding-left: 1em; padding-right: 1em; text-align: center; vertical-align: top\">0</td>\n",
       "        <td style=\"padding-left: 1em; padding-right: 1em; text-align: center; vertical-align: top\">...</td>\n",
       "    </tr>\n",
       "    <tr>\n",
       "        <td style=\"padding-left: 1em; padding-right: 1em; text-align: center; vertical-align: top\">0</td>\n",
       "        <td style=\"padding-left: 1em; padding-right: 1em; text-align: center; vertical-align: top\">0</td>\n",
       "        <td style=\"padding-left: 1em; padding-right: 1em; text-align: center; vertical-align: top\">0</td>\n",
       "        <td style=\"padding-left: 1em; padding-right: 1em; text-align: center; vertical-align: top\">0</td>\n",
       "        <td style=\"padding-left: 1em; padding-right: 1em; text-align: center; vertical-align: top\">0</td>\n",
       "        <td style=\"padding-left: 1em; padding-right: 1em; text-align: center; vertical-align: top\">0</td>\n",
       "        <td style=\"padding-left: 1em; padding-right: 1em; text-align: center; vertical-align: top\">...</td>\n",
       "    </tr>\n",
       "    <tr>\n",
       "        <td style=\"padding-left: 1em; padding-right: 1em; text-align: center; vertical-align: top\">0</td>\n",
       "        <td style=\"padding-left: 1em; padding-right: 1em; text-align: center; vertical-align: top\">0</td>\n",
       "        <td style=\"padding-left: 1em; padding-right: 1em; text-align: center; vertical-align: top\">0</td>\n",
       "        <td style=\"padding-left: 1em; padding-right: 1em; text-align: center; vertical-align: top\">0</td>\n",
       "        <td style=\"padding-left: 1em; padding-right: 1em; text-align: center; vertical-align: top\">0</td>\n",
       "        <td style=\"padding-left: 1em; padding-right: 1em; text-align: center; vertical-align: top\">0</td>\n",
       "        <td style=\"padding-left: 1em; padding-right: 1em; text-align: center; vertical-align: top\">...</td>\n",
       "    </tr>\n",
       "    <tr>\n",
       "        <td style=\"padding-left: 1em; padding-right: 1em; text-align: center; vertical-align: top\">0</td>\n",
       "        <td style=\"padding-left: 1em; padding-right: 1em; text-align: center; vertical-align: top\">0</td>\n",
       "        <td style=\"padding-left: 1em; padding-right: 1em; text-align: center; vertical-align: top\">0</td>\n",
       "        <td style=\"padding-left: 1em; padding-right: 1em; text-align: center; vertical-align: top\">0</td>\n",
       "        <td style=\"padding-left: 1em; padding-right: 1em; text-align: center; vertical-align: top\">0</td>\n",
       "        <td style=\"padding-left: 1em; padding-right: 1em; text-align: center; vertical-align: top\">0</td>\n",
       "        <td style=\"padding-left: 1em; padding-right: 1em; text-align: center; vertical-align: top\">...</td>\n",
       "    </tr>\n",
       "</table>\n",
       "[76020 rows x 371 columns]<br/>Note: Only the head of the SFrame is printed.<br/>You can use print_rows(num_rows=m, num_columns=n) to print more rows and columns.\n",
       "</div>"
      ],
      "text/plain": [
       "Columns:\n",
       "\tID\tint\n",
       "\tvar3\tint\n",
       "\tvar15\tint\n",
       "\timp_ent_var16_ult1\tint\n",
       "\timp_op_var39_comer_ult1\tfloat\n",
       "\timp_op_var39_comer_ult3\tfloat\n",
       "\timp_op_var40_comer_ult1\tfloat\n",
       "\timp_op_var40_comer_ult3\tfloat\n",
       "\timp_op_var40_efect_ult1\tint\n",
       "\timp_op_var40_efect_ult3\tint\n",
       "\timp_op_var40_ult1\tfloat\n",
       "\timp_op_var41_comer_ult1\tfloat\n",
       "\timp_op_var41_comer_ult3\tfloat\n",
       "\timp_op_var41_efect_ult1\tint\n",
       "\timp_op_var41_efect_ult3\tint\n",
       "\timp_op_var41_ult1\tfloat\n",
       "\timp_op_var39_efect_ult1\tint\n",
       "\timp_op_var39_efect_ult3\tint\n",
       "\timp_op_var39_ult1\tfloat\n",
       "\timp_sal_var16_ult1\tint\n",
       "\tind_var1_0\tint\n",
       "\tind_var1\tint\n",
       "\tind_var2_0\tint\n",
       "\tind_var2\tint\n",
       "\tind_var5_0\tint\n",
       "\tind_var5\tint\n",
       "\tind_var6_0\tint\n",
       "\tind_var6\tint\n",
       "\tind_var8_0\tint\n",
       "\tind_var8\tint\n",
       "\tind_var12_0\tint\n",
       "\tind_var12\tint\n",
       "\tind_var13_0\tint\n",
       "\tind_var13_corto_0\tint\n",
       "\tind_var13_corto\tint\n",
       "\tind_var13_largo_0\tint\n",
       "\tind_var13_largo\tint\n",
       "\tind_var13_medio_0\tint\n",
       "\tind_var13_medio\tint\n",
       "\tind_var13\tint\n",
       "\tind_var14_0\tint\n",
       "\tind_var14\tint\n",
       "\tind_var17_0\tint\n",
       "\tind_var17\tint\n",
       "\tind_var18_0\tint\n",
       "\tind_var18\tint\n",
       "\tind_var19\tint\n",
       "\tind_var20_0\tint\n",
       "\tind_var20\tint\n",
       "\tind_var24_0\tint\n",
       "\tind_var24\tint\n",
       "\tind_var25_cte\tint\n",
       "\tind_var26_0\tint\n",
       "\tind_var26_cte\tint\n",
       "\tind_var26\tint\n",
       "\tind_var25_0\tint\n",
       "\tind_var25\tint\n",
       "\tind_var27_0\tint\n",
       "\tind_var28_0\tint\n",
       "\tind_var28\tint\n",
       "\tind_var27\tint\n",
       "\tind_var29_0\tint\n",
       "\tind_var29\tint\n",
       "\tind_var30_0\tint\n",
       "\tind_var30\tint\n",
       "\tind_var31_0\tint\n",
       "\tind_var31\tint\n",
       "\tind_var32_cte\tint\n",
       "\tind_var32_0\tint\n",
       "\tind_var32\tint\n",
       "\tind_var33_0\tint\n",
       "\tind_var33\tint\n",
       "\tind_var34_0\tint\n",
       "\tind_var34\tint\n",
       "\tind_var37_cte\tint\n",
       "\tind_var37_0\tint\n",
       "\tind_var37\tint\n",
       "\tind_var39_0\tint\n",
       "\tind_var40_0\tint\n",
       "\tind_var40\tint\n",
       "\tind_var41_0\tint\n",
       "\tind_var41\tint\n",
       "\tind_var39\tint\n",
       "\tind_var44_0\tint\n",
       "\tind_var44\tint\n",
       "\tind_var46_0\tint\n",
       "\tind_var46\tint\n",
       "\tnum_var1_0\tint\n",
       "\tnum_var1\tint\n",
       "\tnum_var4\tint\n",
       "\tnum_var5_0\tint\n",
       "\tnum_var5\tint\n",
       "\tnum_var6_0\tint\n",
       "\tnum_var6\tint\n",
       "\tnum_var8_0\tint\n",
       "\tnum_var8\tint\n",
       "\tnum_var12_0\tint\n",
       "\tnum_var12\tint\n",
       "\tnum_var13_0\tint\n",
       "\tnum_var13_corto_0\tint\n",
       "\tnum_var13_corto\tint\n",
       "\tnum_var13_largo_0\tint\n",
       "\tnum_var13_largo\tint\n",
       "\tnum_var13_medio_0\tint\n",
       "\tnum_var13_medio\tint\n",
       "\tnum_var13\tint\n",
       "\tnum_var14_0\tint\n",
       "\tnum_var14\tint\n",
       "\tnum_var17_0\tint\n",
       "\tnum_var17\tint\n",
       "\tnum_var18_0\tint\n",
       "\tnum_var18\tint\n",
       "\tnum_var20_0\tint\n",
       "\tnum_var20\tint\n",
       "\tnum_var24_0\tint\n",
       "\tnum_var24\tint\n",
       "\tnum_var26_0\tint\n",
       "\tnum_var26\tint\n",
       "\tnum_var25_0\tint\n",
       "\tnum_var25\tint\n",
       "\tnum_op_var40_hace2\tint\n",
       "\tnum_op_var40_hace3\tint\n",
       "\tnum_op_var40_ult1\tint\n",
       "\tnum_op_var40_ult3\tint\n",
       "\tnum_op_var41_hace2\tint\n",
       "\tnum_op_var41_hace3\tint\n",
       "\tnum_op_var41_ult1\tint\n",
       "\tnum_op_var41_ult3\tint\n",
       "\tnum_op_var39_hace2\tint\n",
       "\tnum_op_var39_hace3\tint\n",
       "\tnum_op_var39_ult1\tint\n",
       "\tnum_op_var39_ult3\tint\n",
       "\tnum_var27_0\tint\n",
       "\tnum_var28_0\tint\n",
       "\tnum_var28\tint\n",
       "\tnum_var27\tint\n",
       "\tnum_var29_0\tint\n",
       "\tnum_var29\tint\n",
       "\tnum_var30_0\tint\n",
       "\tnum_var30\tint\n",
       "\tnum_var31_0\tint\n",
       "\tnum_var31\tint\n",
       "\tnum_var32_0\tint\n",
       "\tnum_var32\tint\n",
       "\tnum_var33_0\tint\n",
       "\tnum_var33\tint\n",
       "\tnum_var34_0\tint\n",
       "\tnum_var34\tint\n",
       "\tnum_var35\tint\n",
       "\tnum_var37_med_ult2\tint\n",
       "\tnum_var37_0\tint\n",
       "\tnum_var37\tint\n",
       "\tnum_var39_0\tint\n",
       "\tnum_var40_0\tint\n",
       "\tnum_var40\tint\n",
       "\tnum_var41_0\tint\n",
       "\tnum_var41\tint\n",
       "\tnum_var39\tint\n",
       "\tnum_var42_0\tint\n",
       "\tnum_var42\tint\n",
       "\tnum_var44_0\tint\n",
       "\tnum_var44\tint\n",
       "\tnum_var46_0\tint\n",
       "\tnum_var46\tint\n",
       "\tsaldo_var1\tfloat\n",
       "\tsaldo_var5\tfloat\n",
       "\tsaldo_var6\tint\n",
       "\tsaldo_var8\tfloat\n",
       "\tsaldo_var12\tfloat\n",
       "\tsaldo_var13_corto\tint\n",
       "\tsaldo_var13_largo\tint\n",
       "\tsaldo_var13_medio\tint\n",
       "\tsaldo_var13\tint\n",
       "\tsaldo_var14\tint\n",
       "\tsaldo_var17\tfloat\n",
       "\tsaldo_var18\tint\n",
       "\tsaldo_var20\tfloat\n",
       "\tsaldo_var24\tfloat\n",
       "\tsaldo_var26\tfloat\n",
       "\tsaldo_var25\tfloat\n",
       "\tsaldo_var28\tint\n",
       "\tsaldo_var27\tint\n",
       "\tsaldo_var29\tint\n",
       "\tsaldo_var30\tfloat\n",
       "\tsaldo_var31\tfloat\n",
       "\tsaldo_var32\tint\n",
       "\tsaldo_var33\tint\n",
       "\tsaldo_var34\tint\n",
       "\tsaldo_var37\tfloat\n",
       "\tsaldo_var40\tfloat\n",
       "\tsaldo_var41\tint\n",
       "\tsaldo_var42\tfloat\n",
       "\tsaldo_var44\tint\n",
       "\tsaldo_var46\tint\n",
       "\tvar36\tint\n",
       "\tdelta_imp_amort_var18_1y3\tint\n",
       "\tdelta_imp_amort_var34_1y3\tint\n",
       "\tdelta_imp_aport_var13_1y3\tint\n",
       "\tdelta_imp_aport_var17_1y3\tint\n",
       "\tdelta_imp_aport_var33_1y3\tint\n",
       "\tdelta_imp_compra_var44_1y3\tint\n",
       "\tdelta_imp_reemb_var13_1y3\tint\n",
       "\tdelta_imp_reemb_var17_1y3\tint\n",
       "\tdelta_imp_reemb_var33_1y3\tint\n",
       "\tdelta_imp_trasp_var17_in_1y3\tint\n",
       "\tdelta_imp_trasp_var17_out_1y3\tint\n",
       "\tdelta_imp_trasp_var33_in_1y3\tint\n",
       "\tdelta_imp_trasp_var33_out_1y3\tint\n",
       "\tdelta_imp_venta_var44_1y3\tint\n",
       "\tdelta_num_aport_var13_1y3\tint\n",
       "\tdelta_num_aport_var17_1y3\tint\n",
       "\tdelta_num_aport_var33_1y3\tint\n",
       "\tdelta_num_compra_var44_1y3\tint\n",
       "\tdelta_num_reemb_var13_1y3\tint\n",
       "\tdelta_num_reemb_var17_1y3\tint\n",
       "\tdelta_num_reemb_var33_1y3\tint\n",
       "\tdelta_num_trasp_var17_in_1y3\tint\n",
       "\tdelta_num_trasp_var17_out_1y3\tint\n",
       "\tdelta_num_trasp_var33_in_1y3\tint\n",
       "\tdelta_num_trasp_var33_out_1y3\tint\n",
       "\tdelta_num_venta_var44_1y3\tint\n",
       "\timp_amort_var18_hace3\tint\n",
       "\timp_amort_var18_ult1\tint\n",
       "\timp_amort_var34_hace3\tint\n",
       "\timp_amort_var34_ult1\tint\n",
       "\timp_aport_var13_hace3\tint\n",
       "\timp_aport_var13_ult1\tint\n",
       "\timp_aport_var17_hace3\tint\n",
       "\timp_aport_var17_ult1\tint\n",
       "\timp_aport_var33_hace3\tint\n",
       "\timp_aport_var33_ult1\tint\n",
       "\timp_var7_emit_ult1\tint\n",
       "\timp_var7_recib_ult1\tint\n",
       "\timp_compra_var44_hace3\tint\n",
       "\timp_compra_var44_ult1\tint\n",
       "\timp_reemb_var13_hace3\tint\n",
       "\timp_reemb_var13_ult1\tint\n",
       "\timp_reemb_var17_hace3\tint\n",
       "\timp_reemb_var17_ult1\tint\n",
       "\timp_reemb_var33_hace3\tint\n",
       "\timp_reemb_var33_ult1\tint\n",
       "\timp_var43_emit_ult1\tfloat\n",
       "\timp_trans_var37_ult1\tfloat\n",
       "\timp_trasp_var17_in_hace3\tint\n",
       "\timp_trasp_var17_in_ult1\tint\n",
       "\timp_trasp_var17_out_hace3\tint\n",
       "\timp_trasp_var17_out_ult1\tint\n",
       "\timp_trasp_var33_in_hace3\tint\n",
       "\timp_trasp_var33_in_ult1\tint\n",
       "\timp_trasp_var33_out_hace3\tint\n",
       "\timp_trasp_var33_out_ult1\tint\n",
       "\timp_venta_var44_hace3\tint\n",
       "\timp_venta_var44_ult1\tint\n",
       "\tind_var7_emit_ult1\tint\n",
       "\tind_var7_recib_ult1\tint\n",
       "\tind_var10_ult1\tint\n",
       "\tind_var10cte_ult1\tint\n",
       "\tind_var9_cte_ult1\tint\n",
       "\tind_var9_ult1\tint\n",
       "\tind_var43_emit_ult1\tint\n",
       "\tind_var43_recib_ult1\tint\n",
       "\tvar21\tint\n",
       "\tnum_var2_0_ult1\tint\n",
       "\tnum_var2_ult1\tint\n",
       "\tnum_aport_var13_hace3\tint\n",
       "\tnum_aport_var13_ult1\tint\n",
       "\tnum_aport_var17_hace3\tint\n",
       "\tnum_aport_var17_ult1\tint\n",
       "\tnum_aport_var33_hace3\tint\n",
       "\tnum_aport_var33_ult1\tint\n",
       "\tnum_var7_emit_ult1\tint\n",
       "\tnum_var7_recib_ult1\tint\n",
       "\tnum_compra_var44_hace3\tint\n",
       "\tnum_compra_var44_ult1\tint\n",
       "\tnum_ent_var16_ult1\tint\n",
       "\tnum_var22_hace2\tint\n",
       "\tnum_var22_hace3\tint\n",
       "\tnum_var22_ult1\tint\n",
       "\tnum_var22_ult3\tint\n",
       "\tnum_med_var22_ult3\tint\n",
       "\tnum_med_var45_ult3\tint\n",
       "\tnum_meses_var5_ult3\tint\n",
       "\tnum_meses_var8_ult3\tint\n",
       "\tnum_meses_var12_ult3\tint\n",
       "\tnum_meses_var13_corto_ult3\tint\n",
       "\tnum_meses_var13_largo_ult3\tint\n",
       "\tnum_meses_var13_medio_ult3\tint\n",
       "\tnum_meses_var17_ult3\tint\n",
       "\tnum_meses_var29_ult3\tint\n",
       "\tnum_meses_var33_ult3\tint\n",
       "\tnum_meses_var39_vig_ult3\tint\n",
       "\tnum_meses_var44_ult3\tint\n",
       "\tnum_op_var39_comer_ult1\tint\n",
       "\tnum_op_var39_comer_ult3\tint\n",
       "\tnum_op_var40_comer_ult1\tint\n",
       "\tnum_op_var40_comer_ult3\tint\n",
       "\tnum_op_var40_efect_ult1\tint\n",
       "\tnum_op_var40_efect_ult3\tint\n",
       "\tnum_op_var41_comer_ult1\tint\n",
       "\tnum_op_var41_comer_ult3\tint\n",
       "\tnum_op_var41_efect_ult1\tint\n",
       "\tnum_op_var41_efect_ult3\tint\n",
       "\tnum_op_var39_efect_ult1\tint\n",
       "\tnum_op_var39_efect_ult3\tint\n",
       "\tnum_reemb_var13_hace3\tint\n",
       "\tnum_reemb_var13_ult1\tint\n",
       "\tnum_reemb_var17_hace3\tint\n",
       "\tnum_reemb_var17_ult1\tint\n",
       "\tnum_reemb_var33_hace3\tint\n",
       "\tnum_reemb_var33_ult1\tint\n",
       "\tnum_sal_var16_ult1\tint\n",
       "\tnum_var43_emit_ult1\tint\n",
       "\tnum_var43_recib_ult1\tint\n",
       "\tnum_trasp_var11_ult1\tint\n",
       "\tnum_trasp_var17_in_hace3\tint\n",
       "\tnum_trasp_var17_in_ult1\tint\n",
       "\tnum_trasp_var17_out_hace3\tint\n",
       "\tnum_trasp_var17_out_ult1\tint\n",
       "\tnum_trasp_var33_in_hace3\tint\n",
       "\tnum_trasp_var33_in_ult1\tint\n",
       "\tnum_trasp_var33_out_hace3\tint\n",
       "\tnum_trasp_var33_out_ult1\tint\n",
       "\tnum_venta_var44_hace3\tint\n",
       "\tnum_venta_var44_ult1\tint\n",
       "\tnum_var45_hace2\tint\n",
       "\tnum_var45_hace3\tint\n",
       "\tnum_var45_ult1\tint\n",
       "\tnum_var45_ult3\tint\n",
       "\tsaldo_var2_ult1\tint\n",
       "\tsaldo_medio_var5_hace2\tfloat\n",
       "\tsaldo_medio_var5_hace3\tfloat\n",
       "\tsaldo_medio_var5_ult1\tfloat\n",
       "\tsaldo_medio_var5_ult3\tfloat\n",
       "\tsaldo_medio_var8_hace2\tfloat\n",
       "\tsaldo_medio_var8_hace3\tfloat\n",
       "\tsaldo_medio_var8_ult1\tfloat\n",
       "\tsaldo_medio_var8_ult3\tfloat\n",
       "\tsaldo_medio_var12_hace2\tfloat\n",
       "\tsaldo_medio_var12_hace3\tint\n",
       "\tsaldo_medio_var12_ult1\tfloat\n",
       "\tsaldo_medio_var12_ult3\tfloat\n",
       "\tsaldo_medio_var13_corto_hace2\tfloat\n",
       "\tsaldo_medio_var13_corto_hace3\tfloat\n",
       "\tsaldo_medio_var13_corto_ult1\tint\n",
       "\tsaldo_medio_var13_corto_ult3\tfloat\n",
       "\tsaldo_medio_var13_largo_hace2\tint\n",
       "\tsaldo_medio_var13_largo_hace3\tint\n",
       "\tsaldo_medio_var13_largo_ult1\tint\n",
       "\tsaldo_medio_var13_largo_ult3\tint\n",
       "\tsaldo_medio_var13_medio_hace2\tint\n",
       "\tsaldo_medio_var13_medio_hace3\tint\n",
       "\tsaldo_medio_var13_medio_ult1\tint\n",
       "\tsaldo_medio_var13_medio_ult3\tint\n",
       "\tsaldo_medio_var17_hace2\tfloat\n",
       "\tsaldo_medio_var17_hace3\tint\n",
       "\tsaldo_medio_var17_ult1\tfloat\n",
       "\tsaldo_medio_var17_ult3\tfloat\n",
       "\tsaldo_medio_var29_hace2\tint\n",
       "\tsaldo_medio_var29_hace3\tint\n",
       "\tsaldo_medio_var29_ult1\tint\n",
       "\tsaldo_medio_var29_ult3\tint\n",
       "\tsaldo_medio_var33_hace2\tint\n",
       "\tsaldo_medio_var33_hace3\tint\n",
       "\tsaldo_medio_var33_ult1\tint\n",
       "\tsaldo_medio_var33_ult3\tint\n",
       "\tsaldo_medio_var44_hace2\tint\n",
       "\tsaldo_medio_var44_hace3\tint\n",
       "\tsaldo_medio_var44_ult1\tint\n",
       "\tsaldo_medio_var44_ult3\tint\n",
       "\tvar38\tfloat\n",
       "\tTARGET\tint\n",
       "\n",
       "Rows: 76020\n",
       "\n",
       "Data:\n",
       "+----+------+-------+--------------------+-------------------------+-------------------------+\n",
       "| ID | var3 | var15 | imp_ent_var16_ult1 | imp_op_var39_comer_ult1 | imp_op_var39_comer_ult3 |\n",
       "+----+------+-------+--------------------+-------------------------+-------------------------+\n",
       "| 1  |  2   |   23  |         0          |           0.0           |           0.0           |\n",
       "| 3  |  2   |   34  |         0          |           0.0           |           0.0           |\n",
       "| 4  |  2   |   23  |         0          |           0.0           |           0.0           |\n",
       "| 8  |  2   |   37  |         0          |          195.0          |          195.0          |\n",
       "| 10 |  2   |   39  |         0          |           0.0           |           0.0           |\n",
       "| 13 |  2   |   23  |         0          |           0.0           |           0.0           |\n",
       "| 14 |  2   |   27  |         0          |           0.0           |           0.0           |\n",
       "| 18 |  2   |   26  |         0          |           0.0           |           0.0           |\n",
       "| 20 |  2   |   45  |         0          |           0.0           |           0.0           |\n",
       "| 23 |  2   |   25  |         0          |           0.0           |           0.0           |\n",
       "+----+------+-------+--------------------+-------------------------+-------------------------+\n",
       "+-------------------------+-------------------------+-------------------------+\n",
       "| imp_op_var40_comer_ult1 | imp_op_var40_comer_ult3 | imp_op_var40_efect_ult1 |\n",
       "+-------------------------+-------------------------+-------------------------+\n",
       "|           0.0           |           0.0           |            0            |\n",
       "|           0.0           |           0.0           |            0            |\n",
       "|           0.0           |           0.0           |            0            |\n",
       "|           0.0           |           0.0           |            0            |\n",
       "|           0.0           |           0.0           |            0            |\n",
       "|           0.0           |           0.0           |            0            |\n",
       "|           0.0           |           0.0           |            0            |\n",
       "|           0.0           |           0.0           |            0            |\n",
       "|           0.0           |           0.0           |            0            |\n",
       "|           0.0           |           0.0           |            0            |\n",
       "+-------------------------+-------------------------+-------------------------+\n",
       "+-------------------------+-------------------+-------------------------+-------------------------+\n",
       "| imp_op_var40_efect_ult3 | imp_op_var40_ult1 | imp_op_var41_comer_ult1 | imp_op_var41_comer_ult3 |\n",
       "+-------------------------+-------------------+-------------------------+-------------------------+\n",
       "|            0            |        0.0        |           0.0           |           0.0           |\n",
       "|            0            |        0.0        |           0.0           |           0.0           |\n",
       "|            0            |        0.0        |           0.0           |           0.0           |\n",
       "|            0            |        0.0        |          195.0          |          195.0          |\n",
       "|            0            |        0.0        |           0.0           |           0.0           |\n",
       "|            0            |        0.0        |           0.0           |           0.0           |\n",
       "|            0            |        0.0        |           0.0           |           0.0           |\n",
       "|            0            |        0.0        |           0.0           |           0.0           |\n",
       "|            0            |        0.0        |           0.0           |           0.0           |\n",
       "|            0            |        0.0        |           0.0           |           0.0           |\n",
       "+-------------------------+-------------------+-------------------------+-------------------------+\n",
       "+-------------------------+-------------------------+-------------------+-------------------------+\n",
       "| imp_op_var41_efect_ult1 | imp_op_var41_efect_ult3 | imp_op_var41_ult1 | imp_op_var39_efect_ult1 |\n",
       "+-------------------------+-------------------------+-------------------+-------------------------+\n",
       "|            0            |            0            |        0.0        |            0            |\n",
       "|            0            |            0            |        0.0        |            0            |\n",
       "|            0            |            0            |        0.0        |            0            |\n",
       "|            0            |            0            |       195.0       |            0            |\n",
       "|            0            |            0            |        0.0        |            0            |\n",
       "|            0            |            0            |        0.0        |            0            |\n",
       "|            0            |            0            |        0.0        |            0            |\n",
       "|            0            |            0            |        0.0        |            0            |\n",
       "|            0            |            0            |        0.0        |            0            |\n",
       "|            0            |            0            |        0.0        |            0            |\n",
       "+-------------------------+-------------------------+-------------------+-------------------------+\n",
       "+-------------------------+-------------------+--------------------+-----+\n",
       "| imp_op_var39_efect_ult3 | imp_op_var39_ult1 | imp_sal_var16_ult1 | ... |\n",
       "+-------------------------+-------------------+--------------------+-----+\n",
       "|            0            |        0.0        |         0          | ... |\n",
       "|            0            |        0.0        |         0          | ... |\n",
       "|            0            |        0.0        |         0          | ... |\n",
       "|            0            |       195.0       |         0          | ... |\n",
       "|            0            |        0.0        |         0          | ... |\n",
       "|            0            |        0.0        |         0          | ... |\n",
       "|            0            |        0.0        |         0          | ... |\n",
       "|            0            |        0.0        |         0          | ... |\n",
       "|            0            |        0.0        |         0          | ... |\n",
       "|            0            |        0.0        |         0          | ... |\n",
       "+-------------------------+-------------------+--------------------+-----+\n",
       "[76020 rows x 371 columns]\n",
       "Note: Only the head of the SFrame is printed.\n",
       "You can use print_rows(num_rows=m, num_columns=n) to print more rows and columns."
      ]
     },
     "execution_count": 3,
     "metadata": {},
     "output_type": "execute_result"
    }
   ],
   "source": [
    "data"
   ]
  },
  {
   "cell_type": "code",
   "execution_count": 20,
   "metadata": {
    "collapsed": false
   },
   "outputs": [
    {
     "name": "stdout",
     "output_type": "stream",
     "text": [
      "333\n"
     ]
    }
   ],
   "source": [
    "data_headers = data[0].keys()\n",
    "data_headers.remove('ID')\n",
    "data_headers.remove('TARGET')\n",
    "removable_features = ['saldo_var2_ult1', 'num_trasp_var17_out_hace3', 'num_var46', 'num_reemb_var13_hace3', 'num_var41', 'num_reemb_var33_hace3', 'num_var2_ult1', 'imp_reemb_var13_hace3', 'num_var2_0_ult1', 'imp_trasp_var33_out_hace3', 'imp_reemb_var33_hace3', 'ind_var46_0', 'ind_var27_0', 'saldo_var27', 'saldo_var28', 'imp_amort_var34_hace3', 'num_var46_0', 'num_var28_0', 'imp_trasp_var17_out_hace3', 'num_var27_0', 'ind_var27', 'ind_var28', 'imp_trasp_var17_in_hace3', 'ind_var2_0', 'saldo_medio_var13_medio_hace3', 'ind_var28_0', 'num_var27', 'num_var28', 'num_trasp_var33_out_hace3', 'ind_var41', 'imp_amort_var18_hace3', 'ind_var2', 'saldo_var46', 'saldo_var41', 'ind_var46', 'num_trasp_var17_in_hace3']\n",
    "features = list(set(data_headers)-set(removable_features))\n",
    "print len(features)"
   ]
  },
  {
   "cell_type": "code",
   "execution_count": 17,
   "metadata": {
    "collapsed": false
   },
   "outputs": [
    {
     "name": "stdout",
     "output_type": "stream",
     "text": [
      "60886\n",
      "15134\n"
     ]
    }
   ],
   "source": [
    "train_data, test_data = data.random_split(.8, seed=1)\n",
    "print len(train_data)\n",
    "print len(test_data)"
   ]
  },
  {
   "cell_type": "code",
   "execution_count": 25,
   "metadata": {
    "collapsed": false
   },
   "outputs": [
    {
     "data": {
      "text/html": [
       "<pre>Logistic regression:</pre>"
      ],
      "text/plain": [
       "Logistic regression:"
      ]
     },
     "metadata": {},
     "output_type": "display_data"
    },
    {
     "data": {
      "text/html": [
       "<pre>--------------------------------------------------------</pre>"
      ],
      "text/plain": [
       "--------------------------------------------------------"
      ]
     },
     "metadata": {},
     "output_type": "display_data"
    },
    {
     "data": {
      "text/html": [
       "<pre>Number of examples          : 60886</pre>"
      ],
      "text/plain": [
       "Number of examples          : 60886"
      ]
     },
     "metadata": {},
     "output_type": "display_data"
    },
    {
     "data": {
      "text/html": [
       "<pre>Number of classes           : 2</pre>"
      ],
      "text/plain": [
       "Number of classes           : 2"
      ]
     },
     "metadata": {},
     "output_type": "display_data"
    },
    {
     "data": {
      "text/html": [
       "<pre>Number of feature columns   : 333</pre>"
      ],
      "text/plain": [
       "Number of feature columns   : 333"
      ]
     },
     "metadata": {},
     "output_type": "display_data"
    },
    {
     "data": {
      "text/html": [
       "<pre>Number of unpacked features : 333</pre>"
      ],
      "text/plain": [
       "Number of unpacked features : 333"
      ]
     },
     "metadata": {},
     "output_type": "display_data"
    },
    {
     "data": {
      "text/html": [
       "<pre>Number of coefficients    : 334</pre>"
      ],
      "text/plain": [
       "Number of coefficients    : 334"
      ]
     },
     "metadata": {},
     "output_type": "display_data"
    },
    {
     "data": {
      "text/html": [
       "<pre>Starting Newton Method</pre>"
      ],
      "text/plain": [
       "Starting Newton Method"
      ]
     },
     "metadata": {},
     "output_type": "display_data"
    },
    {
     "data": {
      "text/html": [
       "<pre>--------------------------------------------------------</pre>"
      ],
      "text/plain": [
       "--------------------------------------------------------"
      ]
     },
     "metadata": {},
     "output_type": "display_data"
    },
    {
     "data": {
      "text/html": [
       "<pre>+-----------+----------+--------------+-------------------+</pre>"
      ],
      "text/plain": [
       "+-----------+----------+--------------+-------------------+"
      ]
     },
     "metadata": {},
     "output_type": "display_data"
    },
    {
     "data": {
      "text/html": [
       "<pre>| Iteration | Passes   | Elapsed Time | Training-accuracy |</pre>"
      ],
      "text/plain": [
       "| Iteration | Passes   | Elapsed Time | Training-accuracy |"
      ]
     },
     "metadata": {},
     "output_type": "display_data"
    },
    {
     "data": {
      "text/html": [
       "<pre>+-----------+----------+--------------+-------------------+</pre>"
      ],
      "text/plain": [
       "+-----------+----------+--------------+-------------------+"
      ]
     },
     "metadata": {},
     "output_type": "display_data"
    },
    {
     "data": {
      "text/html": [
       "<pre>| 1         | 2        | 58.147075    | 0.961091          |</pre>"
      ],
      "text/plain": [
       "| 1         | 2        | 58.147075    | 0.961091          |"
      ]
     },
     "metadata": {},
     "output_type": "display_data"
    },
    {
     "data": {
      "text/html": [
       "<pre>| 2         | 3        | 89.292199    | 0.961075          |</pre>"
      ],
      "text/plain": [
       "| 2         | 3        | 89.292199    | 0.961075          |"
      ]
     },
     "metadata": {},
     "output_type": "display_data"
    },
    {
     "data": {
      "text/html": [
       "<pre>| 3         | 4        | 119.320883   | 0.961075          |</pre>"
      ],
      "text/plain": [
       "| 3         | 4        | 119.320883   | 0.961075          |"
      ]
     },
     "metadata": {},
     "output_type": "display_data"
    },
    {
     "data": {
      "text/html": [
       "<pre>| 4         | 5        | 148.943216   | 0.960976          |</pre>"
      ],
      "text/plain": [
       "| 4         | 5        | 148.943216   | 0.960976          |"
      ]
     },
     "metadata": {},
     "output_type": "display_data"
    },
    {
     "data": {
      "text/html": [
       "<pre>| 5         | 6        | 178.632140   | 0.960943          |</pre>"
      ],
      "text/plain": [
       "| 5         | 6        | 178.632140   | 0.960943          |"
      ]
     },
     "metadata": {},
     "output_type": "display_data"
    },
    {
     "data": {
      "text/html": [
       "<pre>| 6         | 7        | 211.524742   | 0.960960          |</pre>"
      ],
      "text/plain": [
       "| 6         | 7        | 211.524742   | 0.960960          |"
      ]
     },
     "metadata": {},
     "output_type": "display_data"
    },
    {
     "data": {
      "text/html": [
       "<pre>| 7         | 8        | 245.124380   | 0.960993          |</pre>"
      ],
      "text/plain": [
       "| 7         | 8        | 245.124380   | 0.960993          |"
      ]
     },
     "metadata": {},
     "output_type": "display_data"
    },
    {
     "data": {
      "text/html": [
       "<pre>| 8         | 9        | 278.333769   | 0.960976          |</pre>"
      ],
      "text/plain": [
       "| 8         | 9        | 278.333769   | 0.960976          |"
      ]
     },
     "metadata": {},
     "output_type": "display_data"
    },
    {
     "data": {
      "text/html": [
       "<pre>| 9         | 10       | 314.726407   | 0.960993          |</pre>"
      ],
      "text/plain": [
       "| 9         | 10       | 314.726407   | 0.960993          |"
      ]
     },
     "metadata": {},
     "output_type": "display_data"
    },
    {
     "data": {
      "text/html": [
       "<pre>| 10        | 11       | 355.260383   | 0.960993          |</pre>"
      ],
      "text/plain": [
       "| 10        | 11       | 355.260383   | 0.960993          |"
      ]
     },
     "metadata": {},
     "output_type": "display_data"
    },
    {
     "data": {
      "text/html": [
       "<pre>+-----------+----------+--------------+-------------------+</pre>"
      ],
      "text/plain": [
       "+-----------+----------+--------------+-------------------+"
      ]
     },
     "metadata": {},
     "output_type": "display_data"
    },
    {
     "data": {
      "text/html": [
       "<pre>TERMINATED: Iteration limit reached.</pre>"
      ],
      "text/plain": [
       "TERMINATED: Iteration limit reached."
      ]
     },
     "metadata": {},
     "output_type": "display_data"
    },
    {
     "data": {
      "text/html": [
       "<pre>This model may not be optimal. To improve it, consider increasing `max_iterations`.</pre>"
      ],
      "text/plain": [
       "This model may not be optimal. To improve it, consider increasing `max_iterations`."
      ]
     },
     "metadata": {},
     "output_type": "display_data"
    }
   ],
   "source": [
    "logistic_model = graphlab.logistic_classifier.create(train_data,\n",
    "                                                      target = 'TARGET',\n",
    "                                                      features=features,\n",
    "                                                      validation_set=None)"
   ]
  },
  {
   "cell_type": "code",
   "execution_count": 26,
   "metadata": {
    "collapsed": false
   },
   "outputs": [
    {
     "data": {
      "text/plain": [
       "{'confusion_matrix': Columns:\n",
       " \ttarget_label\tint\n",
       " \tpredicted_label\tint\n",
       " \tcount\tint\n",
       " \n",
       " Rows: 4\n",
       " \n",
       " Data:\n",
       " +--------------+-----------------+-------+\n",
       " | target_label | predicted_label | count |\n",
       " +--------------+-----------------+-------+\n",
       " |      0       |        1        |   14  |\n",
       " |      0       |        0        | 14484 |\n",
       " |      1       |        1        |   2   |\n",
       " |      1       |        0        |  634  |\n",
       " +--------------+-----------------+-------+\n",
       " [4 rows x 3 columns]}"
      ]
     },
     "execution_count": 26,
     "metadata": {},
     "output_type": "execute_result"
    }
   ],
   "source": [
    "logistic_model.evaluate(test_data,metric='auc')\n",
    "logistic_model.evaluate(test_data,metric='roc_curve')\n",
    "logistic_model.evaluate(test_data,metric='confusion_matrix')"
   ]
  },
  {
   "cell_type": "code",
   "execution_count": null,
   "metadata": {
    "collapsed": true
   },
   "outputs": [],
   "source": []
  }
 ],
 "metadata": {
  "kernelspec": {
   "display_name": "Python 2",
   "language": "python",
   "name": "python2"
  },
  "language_info": {
   "codemirror_mode": {
    "name": "ipython",
    "version": 2
   },
   "file_extension": ".py",
   "mimetype": "text/x-python",
   "name": "python",
   "nbconvert_exporter": "python",
   "pygments_lexer": "ipython2",
   "version": "2.7.12"
  }
 },
 "nbformat": 4,
 "nbformat_minor": 0
}
